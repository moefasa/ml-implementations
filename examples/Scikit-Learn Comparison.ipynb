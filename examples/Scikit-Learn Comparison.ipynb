{
 "cells": [
  {
   "cell_type": "markdown",
   "metadata": {},
   "source": [
    "<h1><center>Scikit-Learn Comparison</center></h1>\n",
    "\n",
    "Here we'll test our base estimator *MyLinearSVM* with scikit-learn's equivalent *LinearSVC* using the spam dataset."
   ]
  },
  {
   "cell_type": "code",
   "execution_count": 2,
   "metadata": {},
   "outputs": [],
   "source": [
    "import sys\n",
    "\n",
    "import pandas as pd\n",
    "import numpy as np\n",
    "\n",
    "from sklearn.model_selection import train_test_split, GridSearchCV\n",
    "from sklearn.preprocessing import StandardScaler\n",
    "from sklearn.metrics import accuracy_score\n",
    "from sklearn.svm import LinearSVC\n",
    "from sklearn import datasets\n",
    "from matplotlib import pyplot as plt\n",
    "\n",
    "sys.path.append(\"../libraries\")\n",
    "import example_utils as examp\n",
    "import base_estimators as base\n",
    "import multiclass_estimators as multi\n",
    "\n",
    "plt.rcParams[\"figure.figsize\"] = (14,8)"
   ]
  },
  {
   "cell_type": "markdown",
   "metadata": {},
   "source": [
    "## Load and transform data for binary classification"
   ]
  },
  {
   "cell_type": "code",
   "execution_count": 14,
   "metadata": {},
   "outputs": [],
   "source": [
    "url = \"https://web.stanford.edu/~hastie/ElemStatLearn/datasets/spam.data\"\n",
    "cnames = [\"col_\"+str(x) for x in range(57)] + [\"target\"]\n",
    "spam = pd.read_table(url, sep = \"\\s+\", names = cnames)\n",
    "\n",
    "X = spam.drop(\"target\", 1).copy()\n",
    "y = spam[\"target\"].copy()\n",
    "\n",
    "# Change target to -1/+1\n",
    "y[y==0] = -1\n",
    "# Divide the data into training and test sets. By default, 25% goes into the test set.\n",
    "X_train, X_test, y_train, y_test = train_test_split(X, y, random_state=42)\n",
    "\n",
    "# Standardize the data\n",
    "scaler = StandardScaler().fit(X_train)\n",
    "X_train = scaler.transform(X_train)\n",
    "X_test = scaler.transform(X_test)"
   ]
  },
  {
   "cell_type": "markdown",
   "metadata": {},
   "source": [
    "## Test learning performance between LinearSVC and MyLinearSVM\n",
    "\n",
    "With default parameters."
   ]
  },
  {
   "cell_type": "code",
   "execution_count": 18,
   "metadata": {},
   "outputs": [
    {
     "name": "stdout",
     "output_type": "stream",
     "text": [
      "Binary Classification training accuracy for sklearn: 0.9272463768115942\n",
      "Binary Classification testing accuracy for sklearn: 0.9252823631624674\n"
     ]
    }
   ],
   "source": [
    "model1 = LinearSVC()\n",
    "model1.fit(X_train, y_train)\n",
    "\n",
    "train_preds = model1.predict(X_train)\n",
    "test_preds = model1.predict(X_test)\n",
    "\n",
    "print(\"Binary Classification training accuracy for sklearn: {}\".format(accuracy_score(y_train, train_preds)))\n",
    "print(\"Binary Classification testing accuracy for sklearn: {}\".format(accuracy_score(y_test, test_preds)))"
   ]
  },
  {
   "cell_type": "code",
   "execution_count": 20,
   "metadata": {},
   "outputs": [
    {
     "name": "stdout",
     "output_type": "stream",
     "text": [
      "Binary Classification training accuracy for sklearn: 0.9063768115942029\n",
      "Binary Classification testing accuracy for sklearn: 0.9122502172024327\n"
     ]
    }
   ],
   "source": [
    "model2 = base.MyLinearSVM()\n",
    "model2.fit(X_train, y_train)\n",
    "\n",
    "train_preds = model2.predict(X_train)\n",
    "test_preds = model2.predict(X_test)\n",
    "\n",
    "print(\"Binary Classification training accuracy for sklearn: {}\".format(accuracy_score(y_train, train_preds)))\n",
    "print(\"Binary Classification testing accuracy for sklearn: {}\".format(accuracy_score(y_test, test_preds)))"
   ]
  },
  {
   "cell_type": "markdown",
   "metadata": {},
   "source": [
    "It seems scikit-learn's *LinearSVC* has higher accuracy, but let's take a look at time performance."
   ]
  },
  {
   "cell_type": "code",
   "execution_count": 21,
   "metadata": {},
   "outputs": [
    {
     "name": "stdout",
     "output_type": "stream",
     "text": [
      "339 ms ± 4.47 ms per loop (mean ± std. dev. of 7 runs, 1 loop each)\n"
     ]
    }
   ],
   "source": [
    "model1 = LinearSVC()\n",
    "%timeit model1.fit(X_train, y_train)"
   ]
  },
  {
   "cell_type": "code",
   "execution_count": 22,
   "metadata": {},
   "outputs": [
    {
     "name": "stdout",
     "output_type": "stream",
     "text": [
      "72.2 ms ± 4.65 ms per loop (mean ± std. dev. of 7 runs, 10 loops each)\n"
     ]
    }
   ],
   "source": [
    "model = base.MyLinearSVM()\n",
    "%timeit model.fit(X_train, y_train)"
   ]
  },
  {
   "cell_type": "markdown",
   "metadata": {},
   "source": [
    "There seems to be some overhead in the scikit-learn implementation, but surely this difference wouldn't be as pronounced with a larger dataset."
   ]
  },
  {
   "cell_type": "code",
   "execution_count": null,
   "metadata": {},
   "outputs": [],
   "source": []
  }
 ],
 "metadata": {
  "kernelspec": {
   "display_name": "Python 3",
   "language": "python",
   "name": "python3"
  },
  "language_info": {
   "codemirror_mode": {
    "name": "ipython",
    "version": 3
   },
   "file_extension": ".py",
   "mimetype": "text/x-python",
   "name": "python",
   "nbconvert_exporter": "python",
   "pygments_lexer": "ipython3",
   "version": "3.6.4"
  }
 },
 "nbformat": 4,
 "nbformat_minor": 2
}
