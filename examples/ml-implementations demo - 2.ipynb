{
 "cells": [
  {
   "cell_type": "markdown",
   "metadata": {},
   "source": [
    "<h1><center>Demo 2: Real-World Dataset</center></h1>\n",
    "\n",
    "In this notebook we'll first be demoing the linear support vector machine implemented in the *base_estimators* library on the *Spam* dataset from Standford for binary classification We'll also demo the  one-vs-rest estimator in the *multiclass_estimators* library on the *Digits* dataset from scikit-learn for multiclassification."
   ]
  },
  {
   "cell_type": "code",
   "execution_count": 10,
   "metadata": {},
   "outputs": [],
   "source": [
    "import os\n",
    "import sys\n",
    "\n",
    "import pandas as pd\n",
    "import numpy as np\n",
    "\n",
    "from sklearn.model_selection import train_test_split, GridSearchCV\n",
    "from sklearn.preprocessing import StandardScaler\n",
    "from sklearn.metrics import accuracy_score\n",
    "from sklearn import datasets\n",
    "from matplotlib import pyplot as plt\n",
    "\n",
    "sys.path.append(\"../libraries\")\n",
    "import example_utils as examp\n",
    "import base_estimators as base\n",
    "import multiclass_estimators as multi\n",
    "\n",
    "plt.rcParams[\"figure.figsize\"] = (14,8)"
   ]
  },
  {
   "cell_type": "markdown",
   "metadata": {},
   "source": [
    "## Binary Classification Estimators"
   ]
  },
  {
   "cell_type": "markdown",
   "metadata": {},
   "source": [
    "### Load and transform data for binary classification"
   ]
  },
  {
   "cell_type": "code",
   "execution_count": 3,
   "metadata": {},
   "outputs": [],
   "source": [
    "url = \"https://web.stanford.edu/~hastie/ElemStatLearn/datasets/spam.data\"\n",
    "cnames = [\"col_\"+str(x) for x in range(57)] + [\"target\"]\n",
    "spam = pd.read_table(url, sep = \"\\s+\", names = cnames)"
   ]
  },
  {
   "cell_type": "code",
   "execution_count": 4,
   "metadata": {},
   "outputs": [],
   "source": [
    "X = spam.drop(\"target\", 1).copy()\n",
    "y = spam[\"target\"].copy()\n",
    "\n",
    "# Change target to -1/+1\n",
    "y[y==0] = -1\n",
    "# Divide the data into training and test sets. By default, 25% goes into the test set.\n",
    "X_train, X_test, y_train, y_test = train_test_split(X, y, random_state=42)\n",
    "\n",
    "# Standardize the data\n",
    "scaler = StandardScaler().fit(X_train)\n",
    "X_train = scaler.transform(X_train)\n",
    "X_test = scaler.transform(X_test)"
   ]
  },
  {
   "cell_type": "markdown",
   "metadata": {},
   "source": [
    "### Fit linear support vector machine\n",
    "\n",
    "Here we fit the model with default parameters (lambda = 1)."
   ]
  },
  {
   "cell_type": "code",
   "execution_count": 8,
   "metadata": {},
   "outputs": [
    {
     "data": {
      "text/plain": [
       "MyLinearSVM(eta_init=1, loss_function='squared-hinge', max_iter=100,\n",
       "      reg_coef=1)"
      ]
     },
     "execution_count": 8,
     "metadata": {},
     "output_type": "execute_result"
    }
   ],
   "source": [
    "model = base.MyLinearSVM()\n",
    "model.fit(X_train, y_train)"
   ]
  },
  {
   "cell_type": "markdown",
   "metadata": {},
   "source": [
    "### Predict and check accuracy"
   ]
  },
  {
   "cell_type": "code",
   "execution_count": 56,
   "metadata": {},
   "outputs": [
    {
     "name": "stdout",
     "output_type": "stream",
     "text": [
      "Binary Classification training accuracy: 0.9063768115942029\n",
      "Binary Classification testing accuracy: 0.9122502172024327\n"
     ]
    }
   ],
   "source": [
    "train_preds = model.predict(X_train)\n",
    "test_preds = model.predict(X_test)\n",
    "\n",
    "print(\"Binary Classification training accuracy: {}\".format(accuracy_score(y_train, train_preds)))\n",
    "print(\"Binary Classification testing accuracy: {}\".format(accuracy_score(y_test, test_preds)))"
   ]
  },
  {
   "cell_type": "markdown",
   "metadata": {},
   "source": [
    "### Tune linear support vector machine\n",
    "\n",
    "The class is scikit-learn compatible and can be used with other scikit-learn classes like GridSearchCV. Here we tune the regularization parameter, lambda."
   ]
  },
  {
   "cell_type": "code",
   "execution_count": 57,
   "metadata": {},
   "outputs": [
    {
     "data": {
      "text/plain": [
       "GridSearchCV(cv=3, error_score='raise',\n",
       "       estimator=MyLinearSVM(eta_init=1, loss_function='squared-hinge', max_iter=100,\n",
       "      reg_coef=1),\n",
       "       fit_params=None, iid=True, n_jobs=1,\n",
       "       param_grid={'reg_coef': [0.01, 0.1, 1, 2]}, pre_dispatch='2*n_jobs',\n",
       "       refit=True, return_train_score='warn', scoring=None, verbose=0)"
      ]
     },
     "execution_count": 57,
     "metadata": {},
     "output_type": "execute_result"
    }
   ],
   "source": [
    "# Regularization coefficient\n",
    "grid = {\"reg_coef\": [0.01, 0.1, 1, 2]}\n",
    "modcv = GridSearchCV(base.MyLinearSVM(), param_grid=grid, cv=3)\n",
    "modcv.fit(X_train, y_train)"
   ]
  },
  {
   "cell_type": "code",
   "execution_count": 58,
   "metadata": {},
   "outputs": [
    {
     "name": "stdout",
     "output_type": "stream",
     "text": [
      "Binary Classification training accuracy: 0.9176811594202898\n",
      "Binary Classification testing accuracy: 0.9131190269331017\n"
     ]
    }
   ],
   "source": [
    "train_preds = modcv.predict(X_train)\n",
    "test_preds = modcv.predict(X_test)\n",
    "\n",
    "print(\"Binary Classification training accuracy: {}\".format(accuracy_score(y_train, train_preds)))\n",
    "print(\"Binary Classification testing accuracy: {}\".format(accuracy_score(y_test, test_preds)))"
   ]
  },
  {
   "cell_type": "markdown",
   "metadata": {},
   "source": [
    "### Visualize training results\n",
    "\n",
    "Below is a plot showing the training and validation errors at different iterations during gradient descent. Notice that although the default number of iterations is 100, the problem converged (reached below the tolerance level of 1e-3) at around 25 iterations."
   ]
  },
  {
   "cell_type": "code",
   "execution_count": 59,
   "metadata": {},
   "outputs": [
    {
     "data": {
      "image/png": "[encoded data removed]",
      "text/plain": [
       "<matplotlib.figure.Figure at 0x1fa2e663ef0>"
      ]
     },
     "metadata": {},
     "output_type": "display_data"
    }
   ],
   "source": [
    "examp.plot_errors(model, X_train, y_train, X_test, y_test)"
   ]
  },
  {
   "cell_type": "markdown",
   "metadata": {},
   "source": [
    "## Multiclassification Estimators\n",
    "\n",
    "Now we demonstrate the *MyOneVsRestClassifier* implementation. It takes as arguments an instance of any scikit-learn compatible classifier (implements .fit, .predict, and .predict_proba).\n",
    "\n",
    "It supports parallel computation of the labels by passing in an argument 'n_jobs'."
   ]
  },
  {
   "cell_type": "markdown",
   "metadata": {},
   "source": [
    "### Load and transform data for multi-class classification"
   ]
  },
  {
   "cell_type": "code",
   "execution_count": 41,
   "metadata": {},
   "outputs": [],
   "source": [
    "X, y = datasets.load_digits(n_class=10, return_X_y=True)\n",
    "X_train, X_test, y_train, y_test = train_test_split(X, y, random_state=42)"
   ]
  },
  {
   "cell_type": "markdown",
   "metadata": {},
   "source": [
    "### Fit One-vs-Rest Multiclassifier with Linear SVMs"
   ]
  },
  {
   "cell_type": "code",
   "execution_count": 42,
   "metadata": {},
   "outputs": [
    {
     "name": "stdout",
     "output_type": "stream",
     "text": [
      "Multi-classification training accuracy: 0.9651076466221232\n",
      "Multi-classification testing accuracy: 0.9644444444444444\n"
     ]
    }
   ],
   "source": [
    "model = multi.MyOneVsRestClassifier(base.MyLinearSVM())\n",
    "model.fit(X_train, y_train)\n",
    "\n",
    "train_preds = model.predict(X_train)\n",
    "test_preds = model.predict(X_test)\n",
    "\n",
    "print(\"Multi-classification training accuracy: {}\".format(accuracy_score(y_train, train_preds)))\n",
    "print(\"Multi-classification testing accuracy: {}\".format(accuracy_score(y_test, test_preds)))"
   ]
  },
  {
   "cell_type": "markdown",
   "metadata": {},
   "source": [
    "### Mutli-label Grid Search\n",
    "\n",
    "The *MyOneVsRestClassifier* also allows passage of a grid parameter that will perform grid search for every label set. Note that if n_jobs is not equal to 1 the grid_n_jobs will automatically be forced to 1 regardless of the input. Below we demontstrate how to run the grid search in parallel."
   ]
  },
  {
   "cell_type": "code",
   "execution_count": 43,
   "metadata": {},
   "outputs": [
    {
     "name": "stdout",
     "output_type": "stream",
     "text": [
      "Multi-classification training accuracy with grid search: 0.9658500371195249\n",
      "Multi-classification testing accuracy: 0.9666666666666667\n"
     ]
    }
   ],
   "source": [
    "# Performs grid search for every label\n",
    "grid = {\"reg_coef\": [0.01, 0.1, 1]}\n",
    "model = multi.MyOneVsRestClassifier(base.MyLinearSVM(), grid=grid, grid_n_jobs=-1)\n",
    "model.fit(X_train, y_train)\n",
    "\n",
    "train_preds = model.predict(X_train)\n",
    "test_preds = model.predict(X_test)\n",
    "\n",
    "print(\"Multi-classification training accuracy with grid search: {}\".format(accuracy_score(y_train, train_preds)))\n",
    "print(\"Multi-classification testing accuracy: {}\".format(accuracy_score(y_test, test_preds)))"
   ]
  },
  {
   "cell_type": "code",
   "execution_count": 46,
   "metadata": {},
   "outputs": [],
   "source": [
    "best_lambdas = [mod.best_estimator_.reg_coef for mod in model.models_]"
   ]
  },
  {
   "cell_type": "code",
   "execution_count": 47,
   "metadata": {},
   "outputs": [
    {
     "data": {
      "text/plain": [
       "[1, 0.01, 0.01, 0.01, 0.01, 0.01, 0.01, 0.01, 1, 0.01]"
      ]
     },
     "execution_count": 47,
     "metadata": {},
     "output_type": "execute_result"
    }
   ],
   "source": [
    "# Best parameters\n",
    "best_lambdas"
   ]
  },
  {
   "cell_type": "code",
   "execution_count": null,
   "metadata": {},
   "outputs": [],
   "source": []
  }
 ],
 "metadata": {
  "kernelspec": {
   "display_name": "Python 3",
   "language": "python",
   "name": "python3"
  },
  "language_info": {
   "codemirror_mode": {
    "name": "ipython",
    "version": 3
   },
   "file_extension": ".py",
   "mimetype": "text/x-python",
   "name": "python",
   "nbconvert_exporter": "python",
   "pygments_lexer": "ipython3",
   "version": "3.6.4"
  }
 },
 "nbformat": 4,
 "nbformat_minor": 2
}
