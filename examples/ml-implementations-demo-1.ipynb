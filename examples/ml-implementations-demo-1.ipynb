{
 "cells": [
  {
   "cell_type": "markdown",
   "metadata": {},
   "source": [
    "<h1><center>Demo 1: Simulated Dataset</center></h1>\n",
    "\n",
    "In this notebook we'll first be demoing the linear support vector machine implemented in the *base_estimators* library on the *Spam* dataset from Standford for binary classification We'll also demo the  one-vs-rest estimator in the *multiclass_estimators* library on the *Digits* dataset from scikit-learn for multiclassification."
   ]
  },
  {
   "cell_type": "code",
   "execution_count": 67,
   "metadata": {},
   "outputs": [],
   "source": [
    "import os\n",
    "import sys\n",
    "\n",
    "import pandas as pd\n",
    "import numpy as np\n",
    "\n",
    "from sklearn.model_selection import train_test_split, GridSearchCV\n",
    "from sklearn.preprocessing import StandardScaler\n",
    "from sklearn.metrics import accuracy_score\n",
    "from sklearn import datasets\n",
    "from matplotlib import pyplot as plt\n",
    "\n",
    "sys.path.append(\"../libraries\")\n",
    "import example_utils as examp\n",
    "import base_estimators as base\n",
    "import multiclass_estimators as multi\n",
    "\n",
    "plt.rcParams[\"figure.figsize\"] = (14,8)"
   ]
  },
  {
   "cell_type": "markdown",
   "metadata": {},
   "source": [
    "## Binary Classification Estimators"
   ]
  },
  {
   "cell_type": "markdown",
   "metadata": {},
   "source": [
    "### Create simulated data for binary classification\n",
    "\n",
    "The dataset is created by giving each feature a unique mean for each class label, and drawing from a normal distribution with some variance for each instance.\n",
    "\n",
    "This should be an easy dataset to fit."
   ]
  },
  {
   "cell_type": "code",
   "execution_count": 64,
   "metadata": {},
   "outputs": [],
   "source": [
    "def generate_data(n_classes=2, n_obs=10000, n_feats=100):\n",
    "\n",
    "    features = []\n",
    "    for _ in range(n_classes):\n",
    "        feature_means = np.random.uniform(low=-20, high=20, size=n_feats)\n",
    "        class_features = np.array([np.random.normal(size=n_obs, loc=feature_mean, scale=25) for feature_mean in feature_means]).T\n",
    "        features.append(class_features)\n",
    "\n",
    "    X = np.concatenate(features)\n",
    "    y = np.array([[x]*n_obs for x in range(n_classes)]).flatten()\n",
    "    \n",
    "    # Change target to -1/+1 if binary\n",
    "    if n_classes == 2:\n",
    "        y[y==0] = -1\n",
    "    # Divide the data into training and test sets. By default, 25% goes into the test set.\n",
    "    X_train, X_test, y_train, y_test = train_test_split(X, y, random_state=42)\n",
    "\n",
    "    # Standardize the data\n",
    "    scaler = StandardScaler().fit(X_train)\n",
    "    X_train = scaler.transform(X_train)\n",
    "    X_test = scaler.transform(X_test)\n",
    "    return X_train, y_train, X_test, y_test\n",
    "\n",
    "X_train, y_train, X_test, y_test = generate_data()"
   ]
  },
  {
   "cell_type": "markdown",
   "metadata": {},
   "source": [
    "### Fit linear support vector machine\n",
    "\n",
    "Here we fit the model with default parameters (lambda = 1)."
   ]
  },
  {
   "cell_type": "code",
   "execution_count": 65,
   "metadata": {},
   "outputs": [
    {
     "data": {
      "text/plain": [
       "MyLinearSVM(eta_init=1, loss_function='squared-hinge', max_iter=100,\n",
       "      reg_coef=1)"
      ]
     },
     "execution_count": 65,
     "metadata": {},
     "output_type": "execute_result"
    }
   ],
   "source": [
    "model = base.MyLinearSVM()\n",
    "model.fit(X_train, y_train)"
   ]
  },
  {
   "cell_type": "markdown",
   "metadata": {},
   "source": [
    "### Predict and check accuracy"
   ]
  },
  {
   "cell_type": "code",
   "execution_count": 60,
   "metadata": {},
   "outputs": [
    {
     "name": "stdout",
     "output_type": "stream",
     "text": [
      "Binary Classification training accuracy: 0.9995333333333334\n",
      "Binary Classification testing accuracy: 0.9996\n"
     ]
    }
   ],
   "source": [
    "train_preds = model.predict(X_train)\n",
    "test_preds = model.predict(X_test)\n",
    "\n",
    "print(\"Binary Classification training accuracy: {}\".format(accuracy_score(y_train, train_preds)))\n",
    "print(\"Binary Classification testing accuracy: {}\".format(accuracy_score(y_test, test_preds)))"
   ]
  },
  {
   "cell_type": "markdown",
   "metadata": {},
   "source": [
    "### Tune linear support vector machine\n",
    "\n",
    "The class is scikit-learn compatible and can be used with other scikit-learn classes like GridSearchCV. Here we tune the regularization parameter, lambda."
   ]
  },
  {
   "cell_type": "code",
   "execution_count": 45,
   "metadata": {},
   "outputs": [
    {
     "data": {
      "text/plain": [
       "GridSearchCV(cv=3, error_score='raise',\n",
       "       estimator=MyLinearSVM(eta_init=1, loss_function='squared-hinge', max_iter=100,\n",
       "      reg_coef=1),\n",
       "       fit_params=None, iid=True, n_jobs=1,\n",
       "       param_grid={'reg_coef': [0.01, 0.1, 1, 2]}, pre_dispatch='2*n_jobs',\n",
       "       refit=True, return_train_score='warn', scoring=None, verbose=0)"
      ]
     },
     "execution_count": 45,
     "metadata": {},
     "output_type": "execute_result"
    }
   ],
   "source": [
    "# Regularization coefficient\n",
    "grid = {\"reg_coef\": [0.01, 0.1, 1, 2]}\n",
    "modcv = GridSearchCV(base.MyLinearSVM(), param_grid=grid, cv=3)\n",
    "modcv.fit(X_train, y_train)"
   ]
  },
  {
   "cell_type": "code",
   "execution_count": 46,
   "metadata": {},
   "outputs": [
    {
     "name": "stdout",
     "output_type": "stream",
     "text": [
      "Binary Classification training accuracy: 0.9998666666666667\n",
      "Binary Classification testing accuracy: 0.9996\n"
     ]
    }
   ],
   "source": [
    "train_preds = modcv.predict(X_train)\n",
    "test_preds = modcv.predict(X_test)\n",
    "\n",
    "print(\"Binary Classification training accuracy: {}\".format(accuracy_score(y_train, train_preds)))\n",
    "print(\"Binary Classification testing accuracy: {}\".format(accuracy_score(y_test, test_preds)))"
   ]
  },
  {
   "cell_type": "markdown",
   "metadata": {},
   "source": [
    "### Visualize training results\n",
    "\n",
    "Below is a plot showing the training and validation errors at different iterations during gradient descent. Notice that although the default number of iterations is 100, the problem converged (reached below the tolerance level of 1e-3) at around 25 iterations."
   ]
  },
  {
   "cell_type": "code",
   "execution_count": 68,
   "metadata": {},
   "outputs": [
    {
     "data": {
      "image/png": "[encoded data removed]",
      "text/plain": [
       "<matplotlib.figure.Figure at 0x23ac188b2b0>"
      ]
     },
     "metadata": {},
     "output_type": "display_data"
    }
   ],
   "source": [
    "examp.plot_errors(model, X_train, y_train, X_test, y_test)"
   ]
  },
  {
   "cell_type": "markdown",
   "metadata": {},
   "source": [
    "## Multiclassification Estimators\n",
    "\n",
    "Now we demonstrate the *MyOneVsRestClassifier* implementation. It takes as arguments an instance of any scikit-learn compatible classifier (implements .fit, .predict, and .predict_proba).\n",
    "\n",
    "It supports parallel computation of the labels by passing in an argument 'n_jobs'."
   ]
  },
  {
   "cell_type": "markdown",
   "metadata": {},
   "source": [
    "### Create data for multi-class classification\n",
    "\n",
    "We'll be using the same code used in the first section to generate the data - this time with 20 classes."
   ]
  },
  {
   "cell_type": "code",
   "execution_count": 70,
   "metadata": {},
   "outputs": [],
   "source": [
    "X_train, y_train, X_test, y_test = generate_data(n_classes=20)"
   ]
  },
  {
   "cell_type": "markdown",
   "metadata": {},
   "source": [
    "### Fit One-vs-Rest Multiclassifier with Linear SVMs"
   ]
  },
  {
   "cell_type": "code",
   "execution_count": 72,
   "metadata": {},
   "outputs": [
    {
     "name": "stdout",
     "output_type": "stream",
     "text": [
      "Multi-classification training accuracy: 0.9886666666666667\n",
      "Multi-classification testing accuracy: 0.98798\n"
     ]
    }
   ],
   "source": [
    "model = multi.MyOneVsRestClassifier(base.MyLinearSVM())\n",
    "model.fit(X_train, y_train)\n",
    "\n",
    "train_preds = model.predict(X_train)\n",
    "test_preds = model.predict(X_test)\n",
    "\n",
    "print(\"Multi-classification training accuracy: {}\".format(accuracy_score(y_train, train_preds)))\n",
    "print(\"Multi-classification testing accuracy: {}\".format(accuracy_score(y_test, test_preds)))"
   ]
  },
  {
   "cell_type": "code",
   "execution_count": null,
   "metadata": {},
   "outputs": [],
   "source": []
  }
 ],
 "metadata": {
  "kernelspec": {
   "display_name": "Python 3",
   "language": "python",
   "name": "python3"
  },
  "language_info": {
   "codemirror_mode": {
    "name": "ipython",
    "version": 3
   },
   "file_extension": ".py",
   "mimetype": "text/x-python",
   "name": "python",
   "nbconvert_exporter": "python",
   "pygments_lexer": "ipython3",
   "version": "3.6.4"
  }
 },
 "nbformat": 4,
 "nbformat_minor": 2
}
